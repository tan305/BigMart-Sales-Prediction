{
 "cells": [
  {
   "cell_type": "markdown",
   "metadata": {},
   "source": [
    "#                                          BIG MART SALES PROBLEM"
   ]
  },
  {
   "cell_type": "markdown",
   "metadata": {},
   "source": [
    "Problem Statement:\n",
    "\n",
    "The data scientists at BigMart have collected 2013 sales data for 1559 products across 10 stores in different cities. Also, certain attributes of each product and store have been defined. The aim is to build a predictive model and find out the sales of each product at a particular store.\n",
    "Using this model, BigMart will try to understand the properties of products and stores which play a key role in increasing sales.\n",
    " \n",
    "Please note that the data may have missing values as some stores might not report all the data due to technical glitches. Hence, it will be required to treat them accordingly.\n"
   ]
  },
  {
   "cell_type": "code",
   "execution_count": 77,
   "metadata": {
    "collapsed": true
   },
   "outputs": [],
   "source": [
    "import numpy as np\n",
    "import pandas as pd\n",
    "import seaborn as sns\n",
    "import matplotlib.pyplot as plt\n",
    "%matplotlib inline"
   ]
  },
  {
   "cell_type": "code",
   "execution_count": 78,
   "metadata": {
    "collapsed": true
   },
   "outputs": [],
   "source": [
    "df=pd.read_csv(\"big mart sales/Train.csv\")"
   ]
  },
  {
   "cell_type": "code",
   "execution_count": 79,
   "metadata": {
    "scrolled": true
   },
   "outputs": [
    {
     "data": {
      "text/html": [
       "<div>\n",
       "<style>\n",
       "    .dataframe thead tr:only-child th {\n",
       "        text-align: right;\n",
       "    }\n",
       "\n",
       "    .dataframe thead th {\n",
       "        text-align: left;\n",
       "    }\n",
       "\n",
       "    .dataframe tbody tr th {\n",
       "        vertical-align: top;\n",
       "    }\n",
       "</style>\n",
       "<table border=\"1\" class=\"dataframe\">\n",
       "  <thead>\n",
       "    <tr style=\"text-align: right;\">\n",
       "      <th></th>\n",
       "      <th>Item_Identifier</th>\n",
       "      <th>Item_Weight</th>\n",
       "      <th>Item_Fat_Content</th>\n",
       "      <th>Item_Visibility</th>\n",
       "      <th>Item_Type</th>\n",
       "      <th>Item_MRP</th>\n",
       "      <th>Outlet_Identifier</th>\n",
       "      <th>Outlet_Establishment_Year</th>\n",
       "      <th>Outlet_Size</th>\n",
       "      <th>Outlet_Location_Type</th>\n",
       "      <th>Outlet_Type</th>\n",
       "      <th>Item_Outlet_Sales</th>\n",
       "    </tr>\n",
       "  </thead>\n",
       "  <tbody>\n",
       "    <tr>\n",
       "      <th>0</th>\n",
       "      <td>FDA15</td>\n",
       "      <td>9.30</td>\n",
       "      <td>Low Fat</td>\n",
       "      <td>0.016047</td>\n",
       "      <td>Dairy</td>\n",
       "      <td>249.8092</td>\n",
       "      <td>OUT049</td>\n",
       "      <td>1999</td>\n",
       "      <td>Medium</td>\n",
       "      <td>Tier 1</td>\n",
       "      <td>Supermarket Type1</td>\n",
       "      <td>3735.1380</td>\n",
       "    </tr>\n",
       "    <tr>\n",
       "      <th>1</th>\n",
       "      <td>DRC01</td>\n",
       "      <td>5.92</td>\n",
       "      <td>Regular</td>\n",
       "      <td>0.019278</td>\n",
       "      <td>Soft Drinks</td>\n",
       "      <td>48.2692</td>\n",
       "      <td>OUT018</td>\n",
       "      <td>2009</td>\n",
       "      <td>Medium</td>\n",
       "      <td>Tier 3</td>\n",
       "      <td>Supermarket Type2</td>\n",
       "      <td>443.4228</td>\n",
       "    </tr>\n",
       "    <tr>\n",
       "      <th>2</th>\n",
       "      <td>FDN15</td>\n",
       "      <td>17.50</td>\n",
       "      <td>Low Fat</td>\n",
       "      <td>0.016760</td>\n",
       "      <td>Meat</td>\n",
       "      <td>141.6180</td>\n",
       "      <td>OUT049</td>\n",
       "      <td>1999</td>\n",
       "      <td>Medium</td>\n",
       "      <td>Tier 1</td>\n",
       "      <td>Supermarket Type1</td>\n",
       "      <td>2097.2700</td>\n",
       "    </tr>\n",
       "    <tr>\n",
       "      <th>3</th>\n",
       "      <td>FDX07</td>\n",
       "      <td>19.20</td>\n",
       "      <td>Regular</td>\n",
       "      <td>0.000000</td>\n",
       "      <td>Fruits and Vegetables</td>\n",
       "      <td>182.0950</td>\n",
       "      <td>OUT010</td>\n",
       "      <td>1998</td>\n",
       "      <td>NaN</td>\n",
       "      <td>Tier 3</td>\n",
       "      <td>Grocery Store</td>\n",
       "      <td>732.3800</td>\n",
       "    </tr>\n",
       "    <tr>\n",
       "      <th>4</th>\n",
       "      <td>NCD19</td>\n",
       "      <td>8.93</td>\n",
       "      <td>Low Fat</td>\n",
       "      <td>0.000000</td>\n",
       "      <td>Household</td>\n",
       "      <td>53.8614</td>\n",
       "      <td>OUT013</td>\n",
       "      <td>1987</td>\n",
       "      <td>High</td>\n",
       "      <td>Tier 3</td>\n",
       "      <td>Supermarket Type1</td>\n",
       "      <td>994.7052</td>\n",
       "    </tr>\n",
       "  </tbody>\n",
       "</table>\n",
       "</div>"
      ],
      "text/plain": [
       "  Item_Identifier  Item_Weight Item_Fat_Content  Item_Visibility  \\\n",
       "0           FDA15         9.30          Low Fat         0.016047   \n",
       "1           DRC01         5.92          Regular         0.019278   \n",
       "2           FDN15        17.50          Low Fat         0.016760   \n",
       "3           FDX07        19.20          Regular         0.000000   \n",
       "4           NCD19         8.93          Low Fat         0.000000   \n",
       "\n",
       "               Item_Type  Item_MRP Outlet_Identifier  \\\n",
       "0                  Dairy  249.8092            OUT049   \n",
       "1            Soft Drinks   48.2692            OUT018   \n",
       "2                   Meat  141.6180            OUT049   \n",
       "3  Fruits and Vegetables  182.0950            OUT010   \n",
       "4              Household   53.8614            OUT013   \n",
       "\n",
       "   Outlet_Establishment_Year Outlet_Size Outlet_Location_Type  \\\n",
       "0                       1999      Medium               Tier 1   \n",
       "1                       2009      Medium               Tier 3   \n",
       "2                       1999      Medium               Tier 1   \n",
       "3                       1998         NaN               Tier 3   \n",
       "4                       1987        High               Tier 3   \n",
       "\n",
       "         Outlet_Type  Item_Outlet_Sales  \n",
       "0  Supermarket Type1          3735.1380  \n",
       "1  Supermarket Type2           443.4228  \n",
       "2  Supermarket Type1          2097.2700  \n",
       "3      Grocery Store           732.3800  \n",
       "4  Supermarket Type1           994.7052  "
      ]
     },
     "execution_count": 79,
     "metadata": {},
     "output_type": "execute_result"
    }
   ],
   "source": [
    "df.head()"
   ]
  },
  {
   "cell_type": "code",
   "execution_count": 80,
   "metadata": {},
   "outputs": [
    {
     "name": "stderr",
     "output_type": "stream",
     "text": [
      "C:\\Program Files\\Anaconda\\lib\\site-packages\\ipykernel_launcher.py:9: SettingWithCopyWarning: \n",
      "A value is trying to be set on a copy of a slice from a DataFrame\n",
      "\n",
      "See the caveats in the documentation: http://pandas.pydata.org/pandas-docs/stable/indexing.html#indexing-view-versus-copy\n",
      "  if __name__ == '__main__':\n"
     ]
    }
   ],
   "source": [
    "#Item_Type \"Health and Hygiene\" and \"Household\" cannot be \n",
    "#catogorized according to type of fat content so we assign them to \"Others\" category.\n",
    "\n",
    "a=df.loc[df[\"Item_Type\"]==\"Household\"].index.values\n",
    "b=df.loc[df[\"Item_Type\"]==\"Health and Hygiene\"].index.values\n",
    "\n",
    "c=np.append(a,b)\n",
    "\n",
    "df[\"Item_Fat_Content\"][c]=\"Others\""
   ]
  },
  {
   "cell_type": "code",
   "execution_count": 81,
   "metadata": {},
   "outputs": [
    {
     "name": "stdout",
     "output_type": "stream",
     "text": [
      "Item_Identifier :  1559\n",
      "Item_Weight :  416\n",
      "Item_Fat_Content :  6\n",
      "Item_Visibility :  7880\n",
      "Item_Type :  16\n",
      "Item_MRP :  5938\n",
      "Outlet_Identifier :  10\n",
      "Outlet_Establishment_Year :  9\n",
      "Outlet_Size :  4\n",
      "Outlet_Location_Type :  3\n",
      "Outlet_Type :  4\n",
      "Item_Outlet_Sales :  3493\n"
     ]
    }
   ],
   "source": [
    "#Finding the number of unique values of each feature. \n",
    "\n",
    "columns=df.columns\n",
    "for i in columns:\n",
    "    print(i,\": \",len(df[i].unique()))"
   ]
  },
  {
   "cell_type": "code",
   "execution_count": 82,
   "metadata": {},
   "outputs": [
    {
     "data": {
      "text/plain": [
       "Item_Identifier                 0\n",
       "Item_Weight                  1463\n",
       "Item_Fat_Content                0\n",
       "Item_Visibility                 0\n",
       "Item_Type                       0\n",
       "Item_MRP                        0\n",
       "Outlet_Identifier               0\n",
       "Outlet_Establishment_Year       0\n",
       "Outlet_Size                  2410\n",
       "Outlet_Location_Type            0\n",
       "Outlet_Type                     0\n",
       "Item_Outlet_Sales               0\n",
       "dtype: int64"
      ]
     },
     "execution_count": 82,
     "metadata": {},
     "output_type": "execute_result"
    }
   ],
   "source": [
    "#Finding out the number of missing values of each feature\n",
    "\n",
    "df.isnull().sum()"
   ]
  },
  {
   "cell_type": "code",
   "execution_count": 83,
   "metadata": {},
   "outputs": [
    {
     "data": {
      "text/plain": [
       "<matplotlib.collections.PathCollection at 0x1de2c713518>"
      ]
     },
     "execution_count": 83,
     "metadata": {},
     "output_type": "execute_result"
    },
    {
     "data": {
      "image/png": "[encoded data removed]",
      "text/plain": [
       "<matplotlib.figure.Figure at 0x1de29b463c8>"
      ]
     },
     "metadata": {},
     "output_type": "display_data"
    }
   ],
   "source": [
    "plt.figure(figsize=(20,20))\n",
    "plt.scatter(x=df[\"Item_MRP\"],y=df[\"Item_Outlet_Sales\"])"
   ]
  },
  {
   "cell_type": "code",
   "execution_count": 84,
   "metadata": {
    "collapsed": true
   },
   "outputs": [],
   "source": [
    "#As we can see from the plot there is a linear relationship between\n",
    "#Item_MRP and Item_Outlet_Sales, so we divide Item_MRP by Item_Outlet_Sales\n",
    "#to get the sale for particular item.\n",
    "\n",
    "df[\"Item_Outlet_Sales\"]=round(df.Item_Outlet_Sales/df.Item_MRP)"
   ]
  },
  {
   "cell_type": "code",
   "execution_count": 85,
   "metadata": {},
   "outputs": [
    {
     "data": {
      "text/html": [
       "<div>\n",
       "<style>\n",
       "    .dataframe thead tr:only-child th {\n",
       "        text-align: right;\n",
       "    }\n",
       "\n",
       "    .dataframe thead th {\n",
       "        text-align: left;\n",
       "    }\n",
       "\n",
       "    .dataframe tbody tr th {\n",
       "        vertical-align: top;\n",
       "    }\n",
       "</style>\n",
       "<table border=\"1\" class=\"dataframe\">\n",
       "  <thead>\n",
       "    <tr style=\"text-align: right;\">\n",
       "      <th></th>\n",
       "      <th>Item_Identifier</th>\n",
       "      <th>Item_Weight</th>\n",
       "      <th>Item_Fat_Content</th>\n",
       "      <th>Item_Visibility</th>\n",
       "      <th>Item_Type</th>\n",
       "      <th>Item_MRP</th>\n",
       "      <th>Outlet_Identifier</th>\n",
       "      <th>Outlet_Establishment_Year</th>\n",
       "      <th>Outlet_Size</th>\n",
       "      <th>Outlet_Location_Type</th>\n",
       "      <th>Outlet_Type</th>\n",
       "      <th>Item_Outlet_Sales</th>\n",
       "    </tr>\n",
       "  </thead>\n",
       "  <tbody>\n",
       "    <tr>\n",
       "      <th>544</th>\n",
       "      <td>DRG01</td>\n",
       "      <td>14.8</td>\n",
       "      <td>Low Fat</td>\n",
       "      <td>0.044870</td>\n",
       "      <td>Soft Drinks</td>\n",
       "      <td>76.467</td>\n",
       "      <td>OUT035</td>\n",
       "      <td>2004</td>\n",
       "      <td>Small</td>\n",
       "      <td>Tier 2</td>\n",
       "      <td>Supermarket Type1</td>\n",
       "      <td>20.0</td>\n",
       "    </tr>\n",
       "    <tr>\n",
       "      <th>1218</th>\n",
       "      <td>DRG01</td>\n",
       "      <td>14.8</td>\n",
       "      <td>Low Fat</td>\n",
       "      <td>0.044841</td>\n",
       "      <td>Soft Drinks</td>\n",
       "      <td>78.367</td>\n",
       "      <td>OUT013</td>\n",
       "      <td>1987</td>\n",
       "      <td>High</td>\n",
       "      <td>Tier 3</td>\n",
       "      <td>Supermarket Type1</td>\n",
       "      <td>12.0</td>\n",
       "    </tr>\n",
       "    <tr>\n",
       "      <th>3005</th>\n",
       "      <td>DRG01</td>\n",
       "      <td>NaN</td>\n",
       "      <td>Low Fat</td>\n",
       "      <td>0.044661</td>\n",
       "      <td>Soft Drinks</td>\n",
       "      <td>74.767</td>\n",
       "      <td>OUT027</td>\n",
       "      <td>1985</td>\n",
       "      <td>Medium</td>\n",
       "      <td>Tier 3</td>\n",
       "      <td>Supermarket Type3</td>\n",
       "      <td>36.0</td>\n",
       "    </tr>\n",
       "    <tr>\n",
       "      <th>5974</th>\n",
       "      <td>DRG01</td>\n",
       "      <td>NaN</td>\n",
       "      <td>Low Fat</td>\n",
       "      <td>0.078576</td>\n",
       "      <td>Soft Drinks</td>\n",
       "      <td>78.467</td>\n",
       "      <td>OUT019</td>\n",
       "      <td>1985</td>\n",
       "      <td>Small</td>\n",
       "      <td>Tier 1</td>\n",
       "      <td>Grocery Store</td>\n",
       "      <td>3.0</td>\n",
       "    </tr>\n",
       "    <tr>\n",
       "      <th>8522</th>\n",
       "      <td>DRG01</td>\n",
       "      <td>14.8</td>\n",
       "      <td>Low Fat</td>\n",
       "      <td>0.044878</td>\n",
       "      <td>Soft Drinks</td>\n",
       "      <td>75.467</td>\n",
       "      <td>OUT046</td>\n",
       "      <td>1997</td>\n",
       "      <td>Small</td>\n",
       "      <td>Tier 1</td>\n",
       "      <td>Supermarket Type1</td>\n",
       "      <td>10.0</td>\n",
       "    </tr>\n",
       "  </tbody>\n",
       "</table>\n",
       "</div>"
      ],
      "text/plain": [
       "     Item_Identifier  Item_Weight Item_Fat_Content  Item_Visibility  \\\n",
       "544            DRG01         14.8          Low Fat         0.044870   \n",
       "1218           DRG01         14.8          Low Fat         0.044841   \n",
       "3005           DRG01          NaN          Low Fat         0.044661   \n",
       "5974           DRG01          NaN          Low Fat         0.078576   \n",
       "8522           DRG01         14.8          Low Fat         0.044878   \n",
       "\n",
       "        Item_Type  Item_MRP Outlet_Identifier  Outlet_Establishment_Year  \\\n",
       "544   Soft Drinks    76.467            OUT035                       2004   \n",
       "1218  Soft Drinks    78.367            OUT013                       1987   \n",
       "3005  Soft Drinks    74.767            OUT027                       1985   \n",
       "5974  Soft Drinks    78.467            OUT019                       1985   \n",
       "8522  Soft Drinks    75.467            OUT046                       1997   \n",
       "\n",
       "     Outlet_Size Outlet_Location_Type        Outlet_Type  Item_Outlet_Sales  \n",
       "544        Small               Tier 2  Supermarket Type1               20.0  \n",
       "1218        High               Tier 3  Supermarket Type1               12.0  \n",
       "3005      Medium               Tier 3  Supermarket Type3               36.0  \n",
       "5974       Small               Tier 1      Grocery Store                3.0  \n",
       "8522       Small               Tier 1  Supermarket Type1               10.0  "
      ]
     },
     "execution_count": 85,
     "metadata": {},
     "output_type": "execute_result"
    }
   ],
   "source": [
    "#To check if there is any relation between Item_Identifier and Item_Weight\n",
    "#Clearly it can be seen that a unique Item_Identifier has the same value for\n",
    "#Item_Wieght so we can drop the Item_Weight column to avoid redundancy and also to avoid \n",
    "#the extra work of filling the missing values.\n",
    "\n",
    "df[df.Item_Identifier==\"DRG01\"]"
   ]
  },
  {
   "cell_type": "code",
   "execution_count": 86,
   "metadata": {
    "scrolled": true
   },
   "outputs": [
    {
     "data": {
      "text/html": [
       "<div>\n",
       "<style>\n",
       "    .dataframe thead tr:only-child th {\n",
       "        text-align: right;\n",
       "    }\n",
       "\n",
       "    .dataframe thead th {\n",
       "        text-align: left;\n",
       "    }\n",
       "\n",
       "    .dataframe tbody tr th {\n",
       "        vertical-align: top;\n",
       "    }\n",
       "</style>\n",
       "<table border=\"1\" class=\"dataframe\">\n",
       "  <thead>\n",
       "    <tr style=\"text-align: right;\">\n",
       "      <th></th>\n",
       "      <th>Item_Identifier</th>\n",
       "      <th>Item_Weight</th>\n",
       "      <th>Item_Fat_Content</th>\n",
       "      <th>Item_Visibility</th>\n",
       "      <th>Item_Type</th>\n",
       "      <th>Item_MRP</th>\n",
       "      <th>Outlet_Identifier</th>\n",
       "      <th>Outlet_Establishment_Year</th>\n",
       "      <th>Outlet_Size</th>\n",
       "      <th>Outlet_Location_Type</th>\n",
       "      <th>Outlet_Type</th>\n",
       "      <th>Item_Outlet_Sales</th>\n",
       "    </tr>\n",
       "  </thead>\n",
       "  <tbody>\n",
       "    <tr>\n",
       "      <th>0</th>\n",
       "      <td>FDA15</td>\n",
       "      <td>9.3</td>\n",
       "      <td>Low Fat</td>\n",
       "      <td>0.016047</td>\n",
       "      <td>Dairy</td>\n",
       "      <td>249.8092</td>\n",
       "      <td>OUT049</td>\n",
       "      <td>1999</td>\n",
       "      <td>Medium</td>\n",
       "      <td>Tier 1</td>\n",
       "      <td>Supermarket Type1</td>\n",
       "      <td>15.0</td>\n",
       "    </tr>\n",
       "    <tr>\n",
       "      <th>831</th>\n",
       "      <td>FDA15</td>\n",
       "      <td>9.3</td>\n",
       "      <td>Low Fat</td>\n",
       "      <td>0.016055</td>\n",
       "      <td>Dairy</td>\n",
       "      <td>250.2092</td>\n",
       "      <td>OUT045</td>\n",
       "      <td>2002</td>\n",
       "      <td>NaN</td>\n",
       "      <td>Tier 2</td>\n",
       "      <td>Supermarket Type1</td>\n",
       "      <td>24.0</td>\n",
       "    </tr>\n",
       "    <tr>\n",
       "      <th>2599</th>\n",
       "      <td>FDA15</td>\n",
       "      <td>9.3</td>\n",
       "      <td>Low Fat</td>\n",
       "      <td>0.016019</td>\n",
       "      <td>Dairy</td>\n",
       "      <td>248.5092</td>\n",
       "      <td>OUT035</td>\n",
       "      <td>2004</td>\n",
       "      <td>Small</td>\n",
       "      <td>Tier 2</td>\n",
       "      <td>Supermarket Type1</td>\n",
       "      <td>26.0</td>\n",
       "    </tr>\n",
       "    <tr>\n",
       "      <th>2643</th>\n",
       "      <td>FDA15</td>\n",
       "      <td>9.3</td>\n",
       "      <td>Low Fat</td>\n",
       "      <td>0.016088</td>\n",
       "      <td>Dairy</td>\n",
       "      <td>249.6092</td>\n",
       "      <td>OUT018</td>\n",
       "      <td>2009</td>\n",
       "      <td>Medium</td>\n",
       "      <td>Tier 3</td>\n",
       "      <td>Supermarket Type2</td>\n",
       "      <td>24.0</td>\n",
       "    </tr>\n",
       "    <tr>\n",
       "      <th>4874</th>\n",
       "      <td>FDA15</td>\n",
       "      <td>9.3</td>\n",
       "      <td>Low Fat</td>\n",
       "      <td>0.026818</td>\n",
       "      <td>Dairy</td>\n",
       "      <td>248.9092</td>\n",
       "      <td>OUT010</td>\n",
       "      <td>1998</td>\n",
       "      <td>NaN</td>\n",
       "      <td>Tier 3</td>\n",
       "      <td>Grocery Store</td>\n",
       "      <td>2.0</td>\n",
       "    </tr>\n",
       "    <tr>\n",
       "      <th>5413</th>\n",
       "      <td>FDA15</td>\n",
       "      <td>9.3</td>\n",
       "      <td>Low Fat</td>\n",
       "      <td>0.016009</td>\n",
       "      <td>Dairy</td>\n",
       "      <td>250.6092</td>\n",
       "      <td>OUT013</td>\n",
       "      <td>1987</td>\n",
       "      <td>High</td>\n",
       "      <td>Tier 3</td>\n",
       "      <td>Supermarket Type1</td>\n",
       "      <td>26.0</td>\n",
       "    </tr>\n",
       "    <tr>\n",
       "      <th>6696</th>\n",
       "      <td>FDA15</td>\n",
       "      <td>NaN</td>\n",
       "      <td>Low Fat</td>\n",
       "      <td>0.015945</td>\n",
       "      <td>Dairy</td>\n",
       "      <td>249.5092</td>\n",
       "      <td>OUT027</td>\n",
       "      <td>1985</td>\n",
       "      <td>Medium</td>\n",
       "      <td>Tier 3</td>\n",
       "      <td>Supermarket Type3</td>\n",
       "      <td>26.0</td>\n",
       "    </tr>\n",
       "    <tr>\n",
       "      <th>7543</th>\n",
       "      <td>FDA15</td>\n",
       "      <td>9.3</td>\n",
       "      <td>LF</td>\n",
       "      <td>0.016113</td>\n",
       "      <td>Dairy</td>\n",
       "      <td>248.8092</td>\n",
       "      <td>OUT017</td>\n",
       "      <td>2007</td>\n",
       "      <td>NaN</td>\n",
       "      <td>Tier 2</td>\n",
       "      <td>Supermarket Type1</td>\n",
       "      <td>24.0</td>\n",
       "    </tr>\n",
       "  </tbody>\n",
       "</table>\n",
       "</div>"
      ],
      "text/plain": [
       "     Item_Identifier  Item_Weight Item_Fat_Content  Item_Visibility Item_Type  \\\n",
       "0              FDA15          9.3          Low Fat         0.016047     Dairy   \n",
       "831            FDA15          9.3          Low Fat         0.016055     Dairy   \n",
       "2599           FDA15          9.3          Low Fat         0.016019     Dairy   \n",
       "2643           FDA15          9.3          Low Fat         0.016088     Dairy   \n",
       "4874           FDA15          9.3          Low Fat         0.026818     Dairy   \n",
       "5413           FDA15          9.3          Low Fat         0.016009     Dairy   \n",
       "6696           FDA15          NaN          Low Fat         0.015945     Dairy   \n",
       "7543           FDA15          9.3               LF         0.016113     Dairy   \n",
       "\n",
       "      Item_MRP Outlet_Identifier  Outlet_Establishment_Year Outlet_Size  \\\n",
       "0     249.8092            OUT049                       1999      Medium   \n",
       "831   250.2092            OUT045                       2002         NaN   \n",
       "2599  248.5092            OUT035                       2004       Small   \n",
       "2643  249.6092            OUT018                       2009      Medium   \n",
       "4874  248.9092            OUT010                       1998         NaN   \n",
       "5413  250.6092            OUT013                       1987        High   \n",
       "6696  249.5092            OUT027                       1985      Medium   \n",
       "7543  248.8092            OUT017                       2007         NaN   \n",
       "\n",
       "     Outlet_Location_Type        Outlet_Type  Item_Outlet_Sales  \n",
       "0                  Tier 1  Supermarket Type1               15.0  \n",
       "831                Tier 2  Supermarket Type1               24.0  \n",
       "2599               Tier 2  Supermarket Type1               26.0  \n",
       "2643               Tier 3  Supermarket Type2               24.0  \n",
       "4874               Tier 3      Grocery Store                2.0  \n",
       "5413               Tier 3  Supermarket Type1               26.0  \n",
       "6696               Tier 3  Supermarket Type3               26.0  \n",
       "7543               Tier 2  Supermarket Type1               24.0  "
      ]
     },
     "execution_count": 86,
     "metadata": {},
     "output_type": "execute_result"
    }
   ],
   "source": [
    "df[df.Item_Identifier==\"FDA15\" ]"
   ]
  },
  {
   "cell_type": "code",
   "execution_count": 88,
   "metadata": {
    "scrolled": true
   },
   "outputs": [
    {
     "data": {
      "text/plain": [
       "0    FDA15\n",
       "1    DRC01\n",
       "2    FDN15\n",
       "3    FDX07\n",
       "4    NCD19\n",
       "5    FDP36\n",
       "6    FDO10\n",
       "7    FDP10\n",
       "8    FDH17\n",
       "9    FDU28\n",
       "Name: Item_Identifier, dtype: object"
      ]
     },
     "execution_count": 88,
     "metadata": {},
     "output_type": "execute_result"
    }
   ],
   "source": [
    "df.Item_Identifier.head(10)"
   ]
  },
  {
   "cell_type": "code",
   "execution_count": 12,
   "metadata": {},
   "outputs": [
    {
     "name": "stdout",
     "output_type": "stream",
     "text": [
      "0    FD\n",
      "1    DR\n",
      "2    FD\n",
      "3    FD\n",
      "4    NC\n",
      "Name: Item_id_cat1, dtype: object \n",
      " 0    A\n",
      "1    C\n",
      "2    N\n",
      "3    X\n",
      "4    D\n",
      "Name: Item_id_cat2, dtype: object \n",
      " 0    15\n",
      "1    01\n",
      "2    15\n",
      "3    07\n",
      "4    19\n",
      "Name: Item_id_cat3, dtype: object\n"
     ]
    }
   ],
   "source": [
    "#Converting the Item_Identifier into three different features\n",
    "\n",
    "def Item_identifier_transform(df):\n",
    "    a=df[0]+df[1]\n",
    "    b=df[2]\n",
    "    c=df[3]+df[4]\n",
    "    return a,b,c\n",
    "\n",
    "z=df.Item_Identifier.apply(Item_identifier_transform)\n",
    "\n",
    "from itertools import chain\n",
    "k=list(chain.from_iterable(z))\n",
    "\n",
    "k=np.array(k)\n",
    "k=k.reshape(-1,3)\n",
    "df[\"Item_id_cat1\"]=k[:,0]\n",
    "df[\"Item_id_cat2\"]=k[:,1]\n",
    "df[\"Item_id_cat3\"]=k[:,2]\n",
    "\n",
    "print(df.Item_id_cat1[:5],\"\\n\",df.Item_id_cat2[:5],\"\\n\",df.Item_id_cat3[:5])"
   ]
  },
  {
   "cell_type": "code",
   "execution_count": 13,
   "metadata": {},
   "outputs": [
    {
     "data": {
      "image/png": "[encoded data removed]",
      "text/plain": [
       "<matplotlib.figure.Figure at 0x1de2998d908>"
      ]
     },
     "metadata": {},
     "output_type": "display_data"
    }
   ],
   "source": [
    "#From the below graph we can see the Item_MRP can be divided into four categories\n",
    "\n",
    "a=plt.hist(x=df.Item_MRP,bins=120)[1]\n",
    "b=plt.hist(x=df.Item_MRP,bins=120)[0]"
   ]
  },
  {
   "cell_type": "code",
   "execution_count": 14,
   "metadata": {
    "collapsed": true
   },
   "outputs": [],
   "source": [
    "#Converting MRPs into four different categories from what we inferred  \n",
    "#from the graph above\n",
    "\n",
    "def mrp(data):\n",
    "    if data<70:\n",
    "        data=\"Low\"\n",
    "    elif data<137:\n",
    "        data=\"Medium\"\n",
    "    elif data<202:\n",
    "        data=\"High\"\n",
    "    else:\n",
    "        data=\"V.High\"\n",
    "    return data    "
   ]
  },
  {
   "cell_type": "code",
   "execution_count": 15,
   "metadata": {
    "collapsed": true
   },
   "outputs": [],
   "source": [
    "#Not performed the transformation as it wasn't improvingour model\n",
    "#df.Item_MRP=df.Item_MRP.apply(mrp)"
   ]
  },
  {
   "cell_type": "code",
   "execution_count": 16,
   "metadata": {},
   "outputs": [
    {
     "data": {
      "text/plain": [
       "<matplotlib.axes._subplots.AxesSubplot at 0x1de29f06860>"
      ]
     },
     "execution_count": 16,
     "metadata": {},
     "output_type": "execute_result"
    },
    {
     "data": {
      "image/png": "[encoded data removed]",
      "text/plain": [
       "<matplotlib.figure.Figure at 0x1de29d55f60>"
      ]
     },
     "metadata": {},
     "output_type": "display_data"
    }
   ],
   "source": [
    "#Checking the count of each Outlet_Size,Outlet_Location_Type and Outlet_Establishment_Year but we can't find any typical characteristics that can help us to \n",
    "#boost the predictive ability of our model\n",
    "\n",
    "sns.countplot(x=\"Outlet_Size\",data=df)"
   ]
  },
  {
   "cell_type": "code",
   "execution_count": 17,
   "metadata": {},
   "outputs": [
    {
     "data": {
      "text/plain": [
       "<matplotlib.axes._subplots.AxesSubplot at 0x1de2a147da0>"
      ]
     },
     "execution_count": 17,
     "metadata": {},
     "output_type": "execute_result"
    },
    {
     "data": {
      "image/png": "[encoded data removed]",
      "text/plain": [
       "<matplotlib.figure.Figure at 0x1de2a19c0f0>"
      ]
     },
     "metadata": {},
     "output_type": "display_data"
    }
   ],
   "source": [
    "sns.countplot(x=\"Outlet_Location_Type\",data=df)"
   ]
  },
  {
   "cell_type": "code",
   "execution_count": 18,
   "metadata": {},
   "outputs": [
    {
     "data": {
      "text/plain": [
       "<matplotlib.axes._subplots.AxesSubplot at 0x1de2a7ce6a0>"
      ]
     },
     "execution_count": 18,
     "metadata": {},
     "output_type": "execute_result"
    },
    {
     "data": {
      "image/png": "[encoded data removed]",
      "text/plain": [
       "<matplotlib.figure.Figure at 0x1de2a7b5e48>"
      ]
     },
     "metadata": {},
     "output_type": "display_data"
    }
   ],
   "source": [
    "sns.countplot(x=\"Outlet_Establishment_Year\",data=df)"
   ]
  },
  {
   "cell_type": "code",
   "execution_count": 19,
   "metadata": {},
   "outputs": [
    {
     "data": {
      "text/plain": [
       "<matplotlib.axes._subplots.AxesSubplot at 0x1de29e439b0>"
      ]
     },
     "execution_count": 19,
     "metadata": {},
     "output_type": "execute_result"
    },
    {
     "data": {
      "image/png": "[encoded data removed]",
      "text/plain": [
       "<matplotlib.figure.Figure at 0x1de2a1de160>"
      ]
     },
     "metadata": {},
     "output_type": "display_data"
    }
   ],
   "source": [
    "#Clearly other 3 categories namely \"LF\", \"reg\", \"low fat\" can be converted to 2 categories i.e. \"Low Fat\" and \"Regular\" \n",
    "\n",
    "sns.countplot(x=\"Item_Fat_Content\",data=df)"
   ]
  },
  {
   "cell_type": "code",
   "execution_count": 20,
   "metadata": {
    "collapsed": true
   },
   "outputs": [],
   "source": [
    "#Converting the Item_Fat_content into 2 categories\n",
    "\n",
    "def preprocess(data):\n",
    "    data.drop(\"Item_Weight\",inplace=True,axis=1)\n",
    "\n",
    "    data[\"Item_Fat_Content\"].replace(to_replace=[\"LF\",\"low fat\"],value=\"Low Fat\",inplace=True)\n",
    "    data[\"Item_Fat_Content\"].replace(to_replace=[\"reg\"],value=\"Regular\",inplace=True)\n",
    "    return data\n",
    "df=preprocess(df)"
   ]
  },
  {
   "cell_type": "code",
   "execution_count": 21,
   "metadata": {},
   "outputs": [
    {
     "data": {
      "text/plain": [
       "<matplotlib.axes._subplots.AxesSubplot at 0x1de29c63518>"
      ]
     },
     "execution_count": 21,
     "metadata": {},
     "output_type": "execute_result"
    },
    {
     "data": {
      "image/png": "[encoded data removed]",
      "text/plain": [
       "<matplotlib.figure.Figure at 0x1de29f06160>"
      ]
     },
     "metadata": {},
     "output_type": "display_data"
    }
   ],
   "source": [
    "plt.figure(figsize=(30,10))\n",
    "sns.countplot(x=\"Item_Type\",data=df)"
   ]
  },
  {
   "cell_type": "code",
   "execution_count": 22,
   "metadata": {},
   "outputs": [
    {
     "data": {
      "text/plain": [
       "(array([  526.,   410.,  1381.,  1859.,  1720.,  1235.,   910.,   366.,\n",
       "           71.,    45.]),\n",
       " array([ 0.        ,  0.05730541,  0.11461081,  0.17191622,  0.22922162,\n",
       "         0.28652703,  0.34383243,  0.40113784,  0.45844324,  0.51574865,\n",
       "         0.57305405]),\n",
       " <a list of 10 Patch objects>)"
      ]
     },
     "execution_count": 22,
     "metadata": {},
     "output_type": "execute_result"
    },
    {
     "data": {
      "image/png": "[encoded data removed]",
      "text/plain": [
       "<matplotlib.figure.Figure at 0x1de2a017630>"
      ]
     },
     "metadata": {},
     "output_type": "display_data"
    }
   ],
   "source": [
    "#By taking the square root of Item_Visibilty we get a normal distribution\n",
    "#suitable for getting better efficiency from our machine leaning model\n",
    "\n",
    "plt.hist(x=np.sqrt(df[\"Item_Visibility\"]))"
   ]
  },
  {
   "cell_type": "code",
   "execution_count": 23,
   "metadata": {
    "collapsed": true
   },
   "outputs": [],
   "source": [
    "#To fill the missing values of Outlet_Type, I have developed a simple Random Forest model to \n",
    "#predict the type using the features related to a particular Outlet\n",
    "\n",
    "def pred_outlet_type(data):\n",
    "    X_train=data[data.Outlet_Size.notnull()]\n",
    "    X_test=data[data.Outlet_Size.isnull()]\n",
    "    Y_train=X_train.pop(\"Outlet_Size\")\n",
    "    X_test.drop(\"Outlet_Size\",inplace=True,axis=1)\n",
    "\n",
    "    columns=[\"Outlet_Identifier\",\"Outlet_Establishment_Year\",\"Outlet_Location_Type\",\"Outlet_Type\"]\n",
    "    X_train=X_train[columns]\n",
    "    X_test=X_test[columns]\n",
    "\n",
    "    from sklearn.preprocessing import LabelEncoder\n",
    "    le=LabelEncoder()\n",
    "    columns1=[\"Outlet_Identifier\",\"Outlet_Establishment_Year\",\"Outlet_Location_Type\",\"Outlet_Type\"]\n",
    "    for i in columns1: \n",
    "        le.fit(data[i])\n",
    "        X_train[i]=le.transform(X_train[i])\n",
    "        X_test[i]=le.transform(X_test[i])\n",
    "\n",
    "    from sklearn.ensemble import RandomForestClassifier\n",
    "    from sklearn.grid_search import GridSearchCV\n",
    "\n",
    "    # model=RandomForestClassifier(random_state=0)\n",
    "    # parameters={\"n_estimators\":(50,100,200,120,300,500)}\n",
    "    # gsearch=GridSearchCV(estimator=model,param_grid=parameters,n_jobs=-1,scoring='accuracy',cv=5)\n",
    "    # gsearch.fit(X_train,Y_train)\n",
    "    # gsearch.best_params_\n",
    "    # gsearch.best_score_\n",
    "\n",
    "    # model1=RandomForestClassifier(random_state=0,n_estimators=50)\n",
    "    # parameters={\"max_depth\":(2,3,4,5,6),\"min_samples_leaf\":(2,3,4,5,6,7,10),\"min_samples_split\":(2,5,10,15,20,30,50)}\n",
    "    # gsearch1=GridSearchCV(estimator=model1,param_grid=parameters,n_jobs=-1,scoring='accuracy',cv=5)\n",
    "    # gsearch1.fit(X_train,Y_train)\n",
    "    # gsearch1.best_params_\n",
    "    # gsearch1.best_score_\n",
    "\n",
    "    # model2=RandomForestClassifier(random_state=0,n_estimators=50,max_depth=3,min_samples_leaf=2,min_samples_split=2)\n",
    "    # parameters={\"max_features\":(\"log2\",\"sqrt\",\"auto\")}\n",
    "    # gsearch2=GridSearchCV(estimator=model2,param_grid=parameters,n_jobs=-1,scoring='accuracy',cv=5)\n",
    "    # gsearch2.fit(X_train,Y_train)\n",
    "    # gsearch2.best_params_\n",
    "    # gsearch2.best_score_\n",
    "\n",
    "    final_model=RandomForestClassifier(random_state=0,n_estimators=50,max_depth=3,min_samples_leaf=2,min_samples_split=2,max_features=\"log2\")\n",
    "    final_model.fit(X_train,Y_train)\n",
    "    final_model.score(X_train,Y_train)\n",
    "    predictions=final_model.predict(X_test)\n",
    "\n",
    "    a=data[data.Outlet_Size.isnull()]\n",
    "    a.Outlet_Size=predictions\n",
    "    new_data=data[data.Outlet_Size.notnull()].append(a)\n",
    "    new_data.reset_index(drop=False,inplace=True)\n",
    "    return new_data"
   ]
  },
  {
   "cell_type": "code",
   "execution_count": 24,
   "metadata": {},
   "outputs": [
    {
     "name": "stderr",
     "output_type": "stream",
     "text": [
      "C:\\Program Files\\Anaconda\\lib\\site-packages\\ipykernel_launcher.py:8: SettingWithCopyWarning: \n",
      "A value is trying to be set on a copy of a slice from a DataFrame\n",
      "\n",
      "See the caveats in the documentation: http://pandas.pydata.org/pandas-docs/stable/indexing.html#indexing-view-versus-copy\n",
      "  \n",
      "C:\\Program Files\\Anaconda\\lib\\site-packages\\sklearn\\cross_validation.py:41: DeprecationWarning: This module was deprecated in version 0.18 in favor of the model_selection module into which all the refactored classes and functions are moved. Also note that the interface of the new CV iterators are different from that of this module. This module will be removed in 0.20.\n",
      "  \"This module will be removed in 0.20.\", DeprecationWarning)\n",
      "C:\\Program Files\\Anaconda\\lib\\site-packages\\sklearn\\grid_search.py:42: DeprecationWarning: This module was deprecated in version 0.18 in favor of the model_selection module into which all the refactored classes and functions are moved. This module will be removed in 0.20.\n",
      "  DeprecationWarning)\n",
      "C:\\Program Files\\Anaconda\\lib\\site-packages\\pandas\\core\\generic.py:3110: SettingWithCopyWarning: \n",
      "A value is trying to be set on a copy of a slice from a DataFrame.\n",
      "Try using .loc[row_indexer,col_indexer] = value instead\n",
      "\n",
      "See the caveats in the documentation: http://pandas.pydata.org/pandas-docs/stable/indexing.html#indexing-view-versus-copy\n",
      "  self[name] = value\n"
     ]
    }
   ],
   "source": [
    "df=pred_outlet_type(df)\n",
    " \n",
    "df.drop(labels=\"index\",inplace=True,axis=1)\n",
    "df.drop(labels=\"Item_Identifier\",inplace=True,axis=1)"
   ]
  },
  {
   "cell_type": "code",
   "execution_count": 25,
   "metadata": {},
   "outputs": [
    {
     "data": {
      "text/html": [
       "<div>\n",
       "<style>\n",
       "    .dataframe thead tr:only-child th {\n",
       "        text-align: right;\n",
       "    }\n",
       "\n",
       "    .dataframe thead th {\n",
       "        text-align: left;\n",
       "    }\n",
       "\n",
       "    .dataframe tbody tr th {\n",
       "        vertical-align: top;\n",
       "    }\n",
       "</style>\n",
       "<table border=\"1\" class=\"dataframe\">\n",
       "  <thead>\n",
       "    <tr style=\"text-align: right;\">\n",
       "      <th>Outlet_Location_Type</th>\n",
       "      <th>Tier 1</th>\n",
       "      <th>Tier 2</th>\n",
       "      <th>Tier 3</th>\n",
       "    </tr>\n",
       "    <tr>\n",
       "      <th>Outlet_Size</th>\n",
       "      <th></th>\n",
       "      <th></th>\n",
       "      <th></th>\n",
       "    </tr>\n",
       "  </thead>\n",
       "  <tbody>\n",
       "    <tr>\n",
       "      <th>High</th>\n",
       "      <td>0</td>\n",
       "      <td>0</td>\n",
       "      <td>1487</td>\n",
       "    </tr>\n",
       "    <tr>\n",
       "      <th>Medium</th>\n",
       "      <td>930</td>\n",
       "      <td>0</td>\n",
       "      <td>1863</td>\n",
       "    </tr>\n",
       "    <tr>\n",
       "      <th>Small</th>\n",
       "      <td>1458</td>\n",
       "      <td>2785</td>\n",
       "      <td>0</td>\n",
       "    </tr>\n",
       "  </tbody>\n",
       "</table>\n",
       "</div>"
      ],
      "text/plain": [
       "Outlet_Location_Type  Tier 1  Tier 2  Tier 3\n",
       "Outlet_Size                                 \n",
       "High                       0       0    1487\n",
       "Medium                   930       0    1863\n",
       "Small                   1458    2785       0"
      ]
     },
     "execution_count": 25,
     "metadata": {},
     "output_type": "execute_result"
    }
   ],
   "source": [
    "#After filling the missing values\n",
    "\n",
    "pd.crosstab([df.Outlet_Size],df.Outlet_Location_Type)"
   ]
  },
  {
   "cell_type": "code",
   "execution_count": 26,
   "metadata": {
    "collapsed": true
   },
   "outputs": [],
   "source": [
    "#Encoding data into suitable numerical form as we use categorical values\n",
    "\n",
    "from sklearn.preprocessing import LabelEncoder\n",
    "le=LabelEncoder()\n",
    "columns1=[\"Outlet_Identifier\",\"Outlet_Location_Type\",\"Outlet_Type\",\"Item_Fat_Content\",\"Item_Type\",\"Outlet_Size\",\"Item_MRP\",\"Item_id_cat1\",\"Item_id_cat2\",\"Item_id_cat3\"]\n",
    "for i in columns1:\n",
    "    df[i]=le.fit_transform(df[i])    \n",
    "y=df.pop(\"Item_Outlet_Sales\")\n",
    "X=df"
   ]
  },
  {
   "cell_type": "code",
   "execution_count": 27,
   "metadata": {},
   "outputs": [
    {
     "data": {
      "text/html": [
       "<div>\n",
       "<style>\n",
       "    .dataframe thead tr:only-child th {\n",
       "        text-align: right;\n",
       "    }\n",
       "\n",
       "    .dataframe thead th {\n",
       "        text-align: left;\n",
       "    }\n",
       "\n",
       "    .dataframe tbody tr th {\n",
       "        vertical-align: top;\n",
       "    }\n",
       "</style>\n",
       "<table border=\"1\" class=\"dataframe\">\n",
       "  <thead>\n",
       "    <tr style=\"text-align: right;\">\n",
       "      <th></th>\n",
       "      <th>Item_Fat_Content</th>\n",
       "      <th>Item_Visibility</th>\n",
       "      <th>Item_Type</th>\n",
       "      <th>Item_MRP</th>\n",
       "      <th>Outlet_Identifier</th>\n",
       "      <th>Outlet_Establishment_Year</th>\n",
       "      <th>Outlet_Size</th>\n",
       "      <th>Outlet_Location_Type</th>\n",
       "      <th>Outlet_Type</th>\n",
       "      <th>Item_id_cat1</th>\n",
       "      <th>Item_id_cat2</th>\n",
       "      <th>Item_id_cat3</th>\n",
       "    </tr>\n",
       "  </thead>\n",
       "  <tbody>\n",
       "    <tr>\n",
       "      <th>0</th>\n",
       "      <td>0</td>\n",
       "      <td>0.016047</td>\n",
       "      <td>4</td>\n",
       "      <td>5592</td>\n",
       "      <td>9</td>\n",
       "      <td>1999</td>\n",
       "      <td>1</td>\n",
       "      <td>0</td>\n",
       "      <td>1</td>\n",
       "      <td>1</td>\n",
       "      <td>0</td>\n",
       "      <td>14</td>\n",
       "    </tr>\n",
       "    <tr>\n",
       "      <th>1</th>\n",
       "      <td>2</td>\n",
       "      <td>0.019278</td>\n",
       "      <td>14</td>\n",
       "      <td>473</td>\n",
       "      <td>3</td>\n",
       "      <td>2009</td>\n",
       "      <td>1</td>\n",
       "      <td>2</td>\n",
       "      <td>2</td>\n",
       "      <td>0</td>\n",
       "      <td>2</td>\n",
       "      <td>0</td>\n",
       "    </tr>\n",
       "    <tr>\n",
       "      <th>2</th>\n",
       "      <td>0</td>\n",
       "      <td>0.016760</td>\n",
       "      <td>10</td>\n",
       "      <td>2901</td>\n",
       "      <td>9</td>\n",
       "      <td>1999</td>\n",
       "      <td>1</td>\n",
       "      <td>0</td>\n",
       "      <td>1</td>\n",
       "      <td>1</td>\n",
       "      <td>13</td>\n",
       "      <td>14</td>\n",
       "    </tr>\n",
       "    <tr>\n",
       "      <th>3</th>\n",
       "      <td>1</td>\n",
       "      <td>0.000000</td>\n",
       "      <td>9</td>\n",
       "      <td>627</td>\n",
       "      <td>1</td>\n",
       "      <td>1987</td>\n",
       "      <td>0</td>\n",
       "      <td>2</td>\n",
       "      <td>1</td>\n",
       "      <td>2</td>\n",
       "      <td>3</td>\n",
       "      <td>18</td>\n",
       "    </tr>\n",
       "    <tr>\n",
       "      <th>4</th>\n",
       "      <td>2</td>\n",
       "      <td>0.000000</td>\n",
       "      <td>0</td>\n",
       "      <td>563</td>\n",
       "      <td>3</td>\n",
       "      <td>2009</td>\n",
       "      <td>1</td>\n",
       "      <td>2</td>\n",
       "      <td>2</td>\n",
       "      <td>1</td>\n",
       "      <td>15</td>\n",
       "      <td>35</td>\n",
       "    </tr>\n",
       "  </tbody>\n",
       "</table>\n",
       "</div>"
      ],
      "text/plain": [
       "   Item_Fat_Content  Item_Visibility  Item_Type  Item_MRP  Outlet_Identifier  \\\n",
       "0                 0         0.016047          4      5592                  9   \n",
       "1                 2         0.019278         14       473                  3   \n",
       "2                 0         0.016760         10      2901                  9   \n",
       "3                 1         0.000000          9       627                  1   \n",
       "4                 2         0.000000          0       563                  3   \n",
       "\n",
       "   Outlet_Establishment_Year  Outlet_Size  Outlet_Location_Type  Outlet_Type  \\\n",
       "0                       1999            1                     0            1   \n",
       "1                       2009            1                     2            2   \n",
       "2                       1999            1                     0            1   \n",
       "3                       1987            0                     2            1   \n",
       "4                       2009            1                     2            2   \n",
       "\n",
       "   Item_id_cat1  Item_id_cat2  Item_id_cat3  \n",
       "0             1             0            14  \n",
       "1             0             2             0  \n",
       "2             1            13            14  \n",
       "3             2             3            18  \n",
       "4             1            15            35  "
      ]
     },
     "execution_count": 27,
     "metadata": {},
     "output_type": "execute_result"
    }
   ],
   "source": [
    "df.head()"
   ]
  },
  {
   "cell_type": "code",
   "execution_count": 28,
   "metadata": {
    "collapsed": true
   },
   "outputs": [],
   "source": [
    "#Performing test and train split of the data\n",
    "\n",
    "from sklearn.cross_validation import train_test_split\n",
    "X_train,X_test,y_train,y_test=train_test_split(X,y,random_state=0)"
   ]
  },
  {
   "cell_type": "code",
   "execution_count": 29,
   "metadata": {
    "collapsed": true
   },
   "outputs": [],
   "source": [
    "#Normalizing data as it is suitable for regression models to learn from normalized data\n",
    "\n",
    "from sklearn.preprocessing import MinMaxScaler\n",
    "scale=MinMaxScaler().fit(X_train)\n",
    "X_train=scale.transform(X_train)\n",
    "X_test=scale.transform(X_test)"
   ]
  },
  {
   "cell_type": "markdown",
   "metadata": {},
   "source": [
    "Linear Regression Model Using Polynomial Features "
   ]
  },
  {
   "cell_type": "code",
   "execution_count": 30,
   "metadata": {},
   "outputs": [
    {
     "data": {
      "text/plain": [
       "7.2038492646810184"
      ]
     },
     "execution_count": 30,
     "metadata": {},
     "output_type": "execute_result"
    }
   ],
   "source": [
    "from sklearn.linear_model import LinearRegression\n",
    "from sklearn.metrics import mean_squared_error\n",
    "from sklearn.preprocessing import PolynomialFeatures\n",
    "\n",
    "poly=PolynomialFeatures(degree=2)\n",
    "X_train_poly=poly.fit_transform(X_train)\n",
    "X_test_poly=poly.transform(X_test)\n",
    "lin=LinearRegression()\n",
    "lin.fit(X_train_poly,y_train)\n",
    "predict=lin.predict(X_test_poly)\n",
    "np.sqrt(mean_squared_error(y_test,predict))"
   ]
  },
  {
   "cell_type": "markdown",
   "metadata": {},
   "source": [
    "Ridge Regression Model"
   ]
  },
  {
   "cell_type": "code",
   "execution_count": 31,
   "metadata": {
    "scrolled": true
   },
   "outputs": [
    {
     "data": {
      "text/plain": [
       "7.7838799734978528"
      ]
     },
     "execution_count": 31,
     "metadata": {},
     "output_type": "execute_result"
    }
   ],
   "source": [
    "from sklearn.linear_model import Ridge\n",
    "\n",
    "ridge1=Ridge(random_state=0)\n",
    "ridge1.fit(X_train,y_train)\n",
    "predict=ridge1.predict(X_test)\n",
    "np.sqrt(mean_squared_error(y_test,predict))"
   ]
  },
  {
   "cell_type": "markdown",
   "metadata": {},
   "source": [
    "Ridge Regression Using Polynomial Features"
   ]
  },
  {
   "cell_type": "code",
   "execution_count": 32,
   "metadata": {},
   "outputs": [
    {
     "data": {
      "text/plain": [
       "7.2284483612427648"
      ]
     },
     "execution_count": 32,
     "metadata": {},
     "output_type": "execute_result"
    }
   ],
   "source": [
    "from sklearn.preprocessing import PolynomialFeatures\n",
    "from sklearn.linear_model import Ridge\n",
    "from sklearn.pipeline import make_pipeline\n",
    "\n",
    "poly=PolynomialFeatures(degree=3)\n",
    "X_train_poly=poly.fit_transform(X_train)\n",
    "X_test_poly=poly.transform(X_test)\n",
    "ridge=Ridge(random_state=0,alpha=1)\n",
    "ridge.fit(X_train_poly,y_train)\n",
    "predict=ridge.predict(X_test_poly)\n",
    "np.sqrt(mean_squared_error(y_test,predict))"
   ]
  },
  {
   "cell_type": "markdown",
   "metadata": {},
   "source": [
    "K-Neighbours Regressor"
   ]
  },
  {
   "cell_type": "code",
   "execution_count": 33,
   "metadata": {},
   "outputs": [
    {
     "data": {
      "text/plain": [
       "7.6528975743619112"
      ]
     },
     "execution_count": 33,
     "metadata": {},
     "output_type": "execute_result"
    }
   ],
   "source": [
    "from sklearn.neighbors import KNeighborsRegressor\n",
    "\n",
    "neigh=KNeighborsRegressor(n_neighbors=7)\n",
    "neigh.fit(X_train,y_train)\n",
    "predict=neigh.predict(X_test)\n",
    "np.sqrt(mean_squared_error(y_test,predict))"
   ]
  },
  {
   "cell_type": "markdown",
   "metadata": {},
   "source": [
    "Lasso Regression"
   ]
  },
  {
   "cell_type": "code",
   "execution_count": 34,
   "metadata": {},
   "outputs": [
    {
     "data": {
      "text/plain": [
       "8.8422926280717551"
      ]
     },
     "execution_count": 34,
     "metadata": {},
     "output_type": "execute_result"
    }
   ],
   "source": [
    "from sklearn.linear_model import Lasso\n",
    "\n",
    "lasso=Lasso(random_state=0)\n",
    "lasso.fit(X_train,y_train)\n",
    "predict=lasso.predict(X_test)\n",
    "np.sqrt(mean_squared_error(y_test,predict))"
   ]
  },
  {
   "cell_type": "markdown",
   "metadata": {},
   "source": [
    "Gradient Boosting Regressor"
   ]
  },
  {
   "cell_type": "code",
   "execution_count": 35,
   "metadata": {},
   "outputs": [
    {
     "data": {
      "text/plain": [
       "7.1696980784404047"
      ]
     },
     "execution_count": 35,
     "metadata": {},
     "output_type": "execute_result"
    }
   ],
   "source": [
    "from sklearn.ensemble import GradientBoostingRegressor\n",
    "from sklearn.grid_search import GridSearchCV\n",
    "gbm=GradientBoostingRegressor(max_features='sqrt',random_state=0)\n",
    "gbm.fit(X_train,y_train)\n",
    "predict=gbm.predict(X_test)\n",
    "np.sqrt(mean_squared_error(y_test,predict))"
   ]
  },
  {
   "cell_type": "markdown",
   "metadata": {},
   "source": [
    "Parameter Tuning of Gradient Boosting Regressor"
   ]
  },
  {
   "cell_type": "code",
   "execution_count": 36,
   "metadata": {
    "collapsed": true
   },
   "outputs": [],
   "source": [
    "from sklearn.pipeline import Pipeline"
   ]
  },
  {
   "cell_type": "code",
   "execution_count": 37,
   "metadata": {},
   "outputs": [
    {
     "name": "stdout",
     "output_type": "stream",
     "text": [
      "{'clf__n_estimators': 30}\n",
      "-48.43310683304826\n"
     ]
    }
   ],
   "source": [
    "pipeline1=Pipeline([(\"clf\",GradientBoostingRegressor(learning_rate=0.1, min_samples_split=10,min_samples_leaf=2,max_depth=8,max_features='sqrt',subsample=0.8,random_state=10))])\n",
    "\n",
    "parameters1={\"clf__n_estimators\":(20,30,40,50,60,70,80,100,120,150,200,300)}\n",
    "\n",
    "gsearch1=GridSearchCV(pipeline1,parameters1,scoring='neg_mean_squared_error',n_jobs=-1,cv=10)\n",
    "\n",
    "gsearch1.fit(X_train,y_train)\n",
    "\n",
    "print(gsearch1.best_params_)\n",
    "\n",
    "print(gsearch1.best_score_)"
   ]
  },
  {
   "cell_type": "code",
   "execution_count": 38,
   "metadata": {
    "collapsed": true
   },
   "outputs": [],
   "source": [
    "pipeline2=Pipeline([(\"clf\",GradientBoostingRegressor(learning_rate=0.1,n_estimators=30,max_features='sqrt',subsample=0.8,random_state=10))])"
   ]
  },
  {
   "cell_type": "code",
   "execution_count": 39,
   "metadata": {
    "collapsed": true
   },
   "outputs": [],
   "source": [
    "parameters2={'clf__max_depth':(2,3,4,5,6,7,8,9),\"clf__min_samples_split\":(5,10,15,20,30,40,50),\"clf__min_samples_leaf\":(2,4,6,8,10,12)}"
   ]
  },
  {
   "cell_type": "code",
   "execution_count": 40,
   "metadata": {
    "collapsed": true
   },
   "outputs": [],
   "source": [
    "gsearch2=GridSearchCV(pipeline2,parameters2,scoring='neg_mean_squared_error',n_jobs=-1,cv=10)"
   ]
  },
  {
   "cell_type": "code",
   "execution_count": 41,
   "metadata": {},
   "outputs": [
    {
     "data": {
      "text/plain": [
       "GridSearchCV(cv=10, error_score='raise',\n",
       "       estimator=Pipeline(memory=None,\n",
       "     steps=[('clf', GradientBoostingRegressor(alpha=0.9, criterion='friedman_mse', init=None,\n",
       "             learning_rate=0.1, loss='ls', max_depth=3,\n",
       "             max_features='sqrt', max_leaf_nodes=None,\n",
       "             min_impurity_decrease=0.0, min_impurity_split=None...ors=30, presort='auto',\n",
       "             random_state=10, subsample=0.8, verbose=0, warm_start=False))]),\n",
       "       fit_params={}, iid=True, n_jobs=-1,\n",
       "       param_grid={'clf__max_depth': (2, 3, 4, 5, 6, 7, 8, 9), 'clf__min_samples_split': (5, 10, 15, 20, 30, 40, 50), 'clf__min_samples_leaf': (2, 4, 6, 8, 10, 12)},\n",
       "       pre_dispatch='2*n_jobs', refit=True,\n",
       "       scoring='neg_mean_squared_error', verbose=0)"
      ]
     },
     "execution_count": 41,
     "metadata": {},
     "output_type": "execute_result"
    }
   ],
   "source": [
    "gsearch2.fit(X_train,y_train)"
   ]
  },
  {
   "cell_type": "code",
   "execution_count": 42,
   "metadata": {},
   "outputs": [
    {
     "data": {
      "text/plain": [
       "{'clf__max_depth': 5,\n",
       " 'clf__min_samples_leaf': 10,\n",
       " 'clf__min_samples_split': 40}"
      ]
     },
     "execution_count": 42,
     "metadata": {},
     "output_type": "execute_result"
    }
   ],
   "source": [
    "gsearch2.best_params_"
   ]
  },
  {
   "cell_type": "code",
   "execution_count": 43,
   "metadata": {},
   "outputs": [
    {
     "data": {
      "text/plain": [
       "-47.2176860877326"
      ]
     },
     "execution_count": 43,
     "metadata": {},
     "output_type": "execute_result"
    }
   ],
   "source": [
    "gsearch2.best_score_"
   ]
  },
  {
   "cell_type": "code",
   "execution_count": 44,
   "metadata": {},
   "outputs": [
    {
     "name": "stdout",
     "output_type": "stream",
     "text": [
      "{'clf__max_features': 'sqrt'}\n",
      "-47.63696127337629\n"
     ]
    }
   ],
   "source": [
    "pipeline3=Pipeline([(\"clf\",GradientBoostingRegressor(learning_rate=0.1,n_estimators=30,max_depth=6,min_samples_leaf=10,min_samples_split=5,subsample=.8,random_state=10))])\n",
    "\n",
    "parameters3={\"clf__max_features\":(\"sqrt\",\"log2\",\"auto\")}\n",
    "\n",
    "gsearch3=GridSearchCV(pipeline3,parameters3,scoring='neg_mean_squared_error',n_jobs=-1,cv=10)\n",
    "\n",
    "gsearch3.fit(X_train,y_train)\n",
    "\n",
    "print(gsearch3.best_params_)\n",
    "\n",
    "print(gsearch3.best_score_)"
   ]
  },
  {
   "cell_type": "code",
   "execution_count": 45,
   "metadata": {},
   "outputs": [
    {
     "data": {
      "text/plain": [
       "7.162871068582584"
      ]
     },
     "execution_count": 45,
     "metadata": {},
     "output_type": "execute_result"
    }
   ],
   "source": [
    "gbm1=GradientBoostingRegressor(n_estimators=30,learning_rate=0.1,max_depth=6,max_features='sqrt',min_samples_leaf=10,min_samples_split=5,random_state=10,subsample=.8)\n",
    "gbm1.fit(X_train,y_train)\n",
    "predict=gbm1.predict(X_test)\n",
    "np.sqrt(mean_squared_error(y_test,predict))"
   ]
  },
  {
   "cell_type": "code",
   "execution_count": 46,
   "metadata": {},
   "outputs": [
    {
     "data": {
      "text/plain": [
       "7.1649073277951638"
      ]
     },
     "execution_count": 46,
     "metadata": {},
     "output_type": "execute_result"
    }
   ],
   "source": [
    "gbm2=GradientBoostingRegressor(n_estimators=60,learning_rate=0.05,max_depth=6,max_features='sqrt',min_samples_leaf=10,min_samples_split=5,random_state=10,subsample=.8)\n",
    "gbm2.fit(X_train,y_train)\n",
    "predict=gbm2.predict(X_test)\n",
    "np.sqrt(mean_squared_error(y_test,predict))"
   ]
  },
  {
   "cell_type": "code",
   "execution_count": 47,
   "metadata": {},
   "outputs": [
    {
     "data": {
      "text/plain": [
       "7.3998896412439663"
      ]
     },
     "execution_count": 47,
     "metadata": {},
     "output_type": "execute_result"
    }
   ],
   "source": [
    "gbm3=GradientBoostingRegressor(n_estimators=120,learning_rate=0.01,max_depth=6,max_features='sqrt',min_samples_leaf=10,min_samples_split=5,random_state=10,subsample=.8)\n",
    "gbm3.fit(X_train,y_train)\n",
    "predict=gbm3.predict(X_test)\n",
    "np.sqrt(mean_squared_error(y_test,predict))"
   ]
  },
  {
   "cell_type": "code",
   "execution_count": 48,
   "metadata": {},
   "outputs": [
    {
     "data": {
      "text/plain": [
       "7.1865101704629124"
      ]
     },
     "execution_count": 48,
     "metadata": {},
     "output_type": "execute_result"
    }
   ],
   "source": [
    "gbm4=GradientBoostingRegressor(n_estimators=240,learning_rate=0.01,max_depth=6,max_features='sqrt',min_samples_leaf=10,min_samples_split=5,random_state=10,subsample=.8)\n",
    "gbm4.fit(X_train,y_train)\n",
    "predict=gbm4.predict(X_test)\n",
    "np.sqrt(mean_squared_error(y_test,predict))"
   ]
  },
  {
   "cell_type": "code",
   "execution_count": 49,
   "metadata": {},
   "outputs": [
    {
     "data": {
      "text/plain": [
       "7.1768634568039156"
      ]
     },
     "execution_count": 49,
     "metadata": {},
     "output_type": "execute_result"
    }
   ],
   "source": [
    "gbm5=GradientBoostingRegressor(n_estimators=480,learning_rate=0.005,max_depth=6,max_features='sqrt',min_samples_leaf=10,min_samples_split=5,random_state=10,subsample=.8)\n",
    "gbm5.fit(X_train,y_train)\n",
    "predict=gbm5.predict(X_test)\n",
    "np.sqrt(mean_squared_error(y_test,predict))"
   ]
  },
  {
   "cell_type": "markdown",
   "metadata": {},
   "source": [
    "XGBoost Classifier with Parameter Tuning"
   ]
  },
  {
   "cell_type": "code",
   "execution_count": 50,
   "metadata": {
    "collapsed": true
   },
   "outputs": [],
   "source": [
    "import xgboost as xgb\n",
    "from xgboost.sklearn import XGBRegressor"
   ]
  },
  {
   "cell_type": "code",
   "execution_count": 51,
   "metadata": {},
   "outputs": [
    {
     "name": "stdout",
     "output_type": "stream",
     "text": [
      "{'clf__n_estimators': 40}\n",
      "-47.60782250651585\n"
     ]
    }
   ],
   "source": [
    "xgb1=XGBRegressor(learning_rate=0.1,max_depth=5,min_child_weight=1,gamma=0,subsample=0.8,colsample_bytree=0.8,nthread=4,scale_pos_weight=1,seed=27)\n",
    "\n",
    "pipeline1=Pipeline([(\"clf\",XGBRegressor(learning_rate=0.1,max_depth=5,min_child_weight=1,gamma=0,subsample=0.8,colsample_bytree=0.8,nthread=4,scale_pos_weight=1,seed=27))])\n",
    "\n",
    "parameters1={\"clf__n_estimators\":(20,30,40,50,60,70,80,100,120,150,200,300)}\n",
    "\n",
    "xgsearch1=GridSearchCV(pipeline1,parameters1,scoring='neg_mean_squared_error',n_jobs=-1,cv=10)\n",
    "\n",
    "xgsearch1.fit(X_train,y_train)\n",
    "\n",
    "print(xgsearch1.best_params_)\n",
    "\n",
    "print(xgsearch1.best_score_)"
   ]
  },
  {
   "cell_type": "code",
   "execution_count": 52,
   "metadata": {},
   "outputs": [
    {
     "data": {
      "text/plain": [
       "([mean: -47.19933, std: 2.31680, params: {'max_depth': 3, 'min_child_weight': 1},\n",
       "  mean: -47.18257, std: 2.33772, params: {'max_depth': 3, 'min_child_weight': 3},\n",
       "  mean: -47.19529, std: 2.34561, params: {'max_depth': 3, 'min_child_weight': 5},\n",
       "  mean: -47.19533, std: 2.34741, params: {'max_depth': 3, 'min_child_weight': 6},\n",
       "  mean: -47.60769, std: 2.35489, params: {'max_depth': 5, 'min_child_weight': 1},\n",
       "  mean: -47.63528, std: 2.42772, params: {'max_depth': 5, 'min_child_weight': 3},\n",
       "  mean: -47.54608, std: 2.36733, params: {'max_depth': 5, 'min_child_weight': 5},\n",
       "  mean: -47.65641, std: 2.41582, params: {'max_depth': 5, 'min_child_weight': 6},\n",
       "  mean: -48.26091, std: 2.41531, params: {'max_depth': 7, 'min_child_weight': 1},\n",
       "  mean: -48.33168, std: 2.29197, params: {'max_depth': 7, 'min_child_weight': 3},\n",
       "  mean: -48.68947, std: 2.24452, params: {'max_depth': 7, 'min_child_weight': 5},\n",
       "  mean: -48.66744, std: 2.38916, params: {'max_depth': 7, 'min_child_weight': 6},\n",
       "  mean: -49.97296, std: 2.64651, params: {'max_depth': 9, 'min_child_weight': 1},\n",
       "  mean: -49.67892, std: 2.82148, params: {'max_depth': 9, 'min_child_weight': 3},\n",
       "  mean: -49.66970, std: 2.72237, params: {'max_depth': 9, 'min_child_weight': 5},\n",
       "  mean: -49.63351, std: 2.45918, params: {'max_depth': 9, 'min_child_weight': 6},\n",
       "  mean: -50.62468, std: 2.95106, params: {'max_depth': 10, 'min_child_weight': 1},\n",
       "  mean: -50.27845, std: 2.36990, params: {'max_depth': 10, 'min_child_weight': 3},\n",
       "  mean: -50.27423, std: 2.78408, params: {'max_depth': 10, 'min_child_weight': 5},\n",
       "  mean: -50.00599, std: 2.50643, params: {'max_depth': 10, 'min_child_weight': 6}],\n",
       " {'max_depth': 3, 'min_child_weight': 3},\n",
       " -47.18257410480236)"
      ]
     },
     "execution_count": 52,
     "metadata": {},
     "output_type": "execute_result"
    }
   ],
   "source": [
    "param_test1 = {\n",
    " 'max_depth':(3,5,7,9,10),\n",
    " 'min_child_weight':(1,3,5,6)\n",
    "}\n",
    "xgsearch2 = GridSearchCV(estimator = XGBRegressor( learning_rate =0.1, n_estimators=40,gamma=0, subsample=0.8, colsample_bytree=0.8, nthread=4, scale_pos_weight=1, seed=27), \n",
    " param_grid = param_test1, scoring='neg_mean_squared_error',n_jobs=4,iid=False, cv=10)\n",
    "xgsearch2.fit(X_train,y_train)\n",
    "xgsearch2.grid_scores_, xgsearch2.best_params_, xgsearch2.best_score_"
   ]
  },
  {
   "cell_type": "code",
   "execution_count": 53,
   "metadata": {},
   "outputs": [
    {
     "data": {
      "text/plain": [
       "([mean: -47.31612, std: 2.34917, params: {'max_depth': 2, 'min_child_weight': 2},\n",
       "  mean: -47.31522, std: 2.34977, params: {'max_depth': 2, 'min_child_weight': 3},\n",
       "  mean: -47.31522, std: 2.34977, params: {'max_depth': 2, 'min_child_weight': 4},\n",
       "  mean: -47.19204, std: 2.32864, params: {'max_depth': 3, 'min_child_weight': 2},\n",
       "  mean: -47.18257, std: 2.33772, params: {'max_depth': 3, 'min_child_weight': 3},\n",
       "  mean: -47.18972, std: 2.34101, params: {'max_depth': 3, 'min_child_weight': 4},\n",
       "  mean: -47.23512, std: 2.34724, params: {'max_depth': 4, 'min_child_weight': 2},\n",
       "  mean: -47.25259, std: 2.40554, params: {'max_depth': 4, 'min_child_weight': 3},\n",
       "  mean: -47.25653, std: 2.36605, params: {'max_depth': 4, 'min_child_weight': 4}],\n",
       " {'max_depth': 3, 'min_child_weight': 3},\n",
       " -47.18257410480236)"
      ]
     },
     "execution_count": 53,
     "metadata": {},
     "output_type": "execute_result"
    }
   ],
   "source": [
    "param_test2 = {\n",
    " 'max_depth':(2,3,4),\n",
    " 'min_child_weight':(2,3,4)\n",
    "}\n",
    "xgsearch2 = GridSearchCV(estimator = XGBRegressor( learning_rate =0.1, n_estimators=40, gamma=0, subsample=0.8, colsample_bytree=0.8, nthread=4, scale_pos_weight=1, seed=27), \n",
    " param_grid = param_test2, scoring='neg_mean_squared_error',n_jobs=4,iid=False, cv=10)\n",
    "xgsearch2.fit(X_train,y_train)\n",
    "xgsearch2.grid_scores_, xgsearch2.best_params_, xgsearch2.best_score_"
   ]
  },
  {
   "cell_type": "code",
   "execution_count": 54,
   "metadata": {},
   "outputs": [
    {
     "data": {
      "text/plain": [
       "([mean: -47.11471, std: 1.51389, params: {'gamma': 0.0},\n",
       "  mean: -47.11471, std: 1.51389, params: {'gamma': 0.1},\n",
       "  mean: -47.11471, std: 1.51389, params: {'gamma': 0.2},\n",
       "  mean: -47.11460, std: 1.51394, params: {'gamma': 0.3},\n",
       "  mean: -47.11462, std: 1.51391, params: {'gamma': 0.4}],\n",
       " {'gamma': 0.3},\n",
       " -47.11459868755689)"
      ]
     },
     "execution_count": 54,
     "metadata": {},
     "output_type": "execute_result"
    }
   ],
   "source": [
    "param_test3 = {\n",
    " 'gamma':[i/10.0 for i in range(0,5)]\n",
    "}\n",
    "xgsearch3 = GridSearchCV(estimator = XGBRegressor( learning_rate =0.1, n_estimators=40, max_depth=3,\n",
    " min_child_weight=3, subsample=0.8, colsample_bytree=0.8, nthread=4, scale_pos_weight=1,seed=27), \n",
    " param_grid = param_test3, scoring='neg_mean_squared_error',n_jobs=4,iid=False, cv=5)\n",
    "xgsearch3.fit(X_train,y_train)\n",
    "xgsearch3.grid_scores_, xgsearch3.best_params_, xgsearch3.best_score_"
   ]
  },
  {
   "cell_type": "code",
   "execution_count": 55,
   "metadata": {},
   "outputs": [
    {
     "name": "stdout",
     "output_type": "stream",
     "text": [
      "{'clf__n_estimators': 70}\n",
      "-47.0429772643545\n"
     ]
    }
   ],
   "source": [
    "pipeline1=Pipeline([(\"clf\",XGBRegressor(learning_rate=0.1,max_depth=3,min_child_weight=3,gamma=0.3,subsample=0.8,colsample_bytree=0.8,nthread=4,scale_pos_weight=1,seed=27))])\n",
    "\n",
    "parameters1={\"clf__n_estimators\":(20,30,40,50,60,70,80,100,120,150,200,300)}\n",
    "\n",
    "xgsearch4=GridSearchCV(pipeline1,parameters1,scoring='neg_mean_squared_error',n_jobs=-1,cv=10)\n",
    "\n",
    "xgsearch4.fit(X_train,y_train)\n",
    "\n",
    "print(xgsearch4.best_params_)\n",
    "\n",
    "print(xgsearch4.best_score_)"
   ]
  },
  {
   "cell_type": "code",
   "execution_count": 56,
   "metadata": {},
   "outputs": [
    {
     "data": {
      "text/plain": [
       "([mean: -46.94788, std: 1.49860, params: {'colsample_bytree': 0.6, 'subsample': 0.6},\n",
       "  mean: -47.13301, std: 1.53324, params: {'colsample_bytree': 0.6, 'subsample': 0.7},\n",
       "  mean: -47.00514, std: 1.44992, params: {'colsample_bytree': 0.6, 'subsample': 0.8},\n",
       "  mean: -46.99622, std: 1.48131, params: {'colsample_bytree': 0.6, 'subsample': 0.9},\n",
       "  mean: -47.02807, std: 1.43863, params: {'colsample_bytree': 0.7, 'subsample': 0.6},\n",
       "  mean: -47.06507, std: 1.44717, params: {'colsample_bytree': 0.7, 'subsample': 0.7},\n",
       "  mean: -46.90067, std: 1.43328, params: {'colsample_bytree': 0.7, 'subsample': 0.8},\n",
       "  mean: -46.99451, std: 1.42762, params: {'colsample_bytree': 0.7, 'subsample': 0.9},\n",
       "  mean: -47.12871, std: 1.49163, params: {'colsample_bytree': 0.8, 'subsample': 0.6},\n",
       "  mean: -46.97919, std: 1.53798, params: {'colsample_bytree': 0.8, 'subsample': 0.7},\n",
       "  mean: -46.90471, std: 1.52072, params: {'colsample_bytree': 0.8, 'subsample': 0.8},\n",
       "  mean: -46.99004, std: 1.50566, params: {'colsample_bytree': 0.8, 'subsample': 0.9},\n",
       "  mean: -47.12421, std: 1.47221, params: {'colsample_bytree': 0.9, 'subsample': 0.6},\n",
       "  mean: -47.01883, std: 1.53291, params: {'colsample_bytree': 0.9, 'subsample': 0.7},\n",
       "  mean: -46.92141, std: 1.51871, params: {'colsample_bytree': 0.9, 'subsample': 0.8},\n",
       "  mean: -47.02558, std: 1.59459, params: {'colsample_bytree': 0.9, 'subsample': 0.9}],\n",
       " {'colsample_bytree': 0.7, 'subsample': 0.8},\n",
       " -46.900667215327424)"
      ]
     },
     "execution_count": 56,
     "metadata": {},
     "output_type": "execute_result"
    }
   ],
   "source": [
    "param_test4 = {\n",
    " 'subsample':[i/10.0 for i in range(6,10)],\n",
    " 'colsample_bytree':[i/10.0 for i in range(6,10)]\n",
    "}\n",
    "xgsearch4 = GridSearchCV(estimator = XGBRegressor( learning_rate =0.1, n_estimators=70, max_depth=3,\n",
    " min_child_weight=3, nthread=4, scale_pos_weight=1,seed=27), \n",
    " param_grid = param_test4, scoring='neg_mean_squared_error',n_jobs=4,iid=False, cv=5)\n",
    "xgsearch4.fit(X_train,y_train)\n",
    "xgsearch4.grid_scores_, xgsearch4.best_params_, xgsearch4.best_score_"
   ]
  },
  {
   "cell_type": "code",
   "execution_count": 57,
   "metadata": {},
   "outputs": [
    {
     "data": {
      "text/plain": [
       "([mean: -46.98702, std: 1.55802, params: {'colsample_bytree': 0.65, 'subsample': 0.75},\n",
       "  mean: -47.00514, std: 1.44992, params: {'colsample_bytree': 0.65, 'subsample': 0.8},\n",
       "  mean: -47.02859, std: 1.50856, params: {'colsample_bytree': 0.65, 'subsample': 0.85},\n",
       "  mean: -47.16799, std: 1.54645, params: {'colsample_bytree': 0.7, 'subsample': 0.75},\n",
       "  mean: -46.90067, std: 1.43328, params: {'colsample_bytree': 0.7, 'subsample': 0.8},\n",
       "  mean: -47.02561, std: 1.53256, params: {'colsample_bytree': 0.7, 'subsample': 0.85},\n",
       "  mean: -47.04028, std: 1.53826, params: {'colsample_bytree': 0.75, 'subsample': 0.75},\n",
       "  mean: -46.90471, std: 1.52072, params: {'colsample_bytree': 0.75, 'subsample': 0.8},\n",
       "  mean: -46.97441, std: 1.61164, params: {'colsample_bytree': 0.75, 'subsample': 0.85}],\n",
       " {'colsample_bytree': 0.7, 'subsample': 0.8},\n",
       " -46.900667215327424)"
      ]
     },
     "execution_count": 57,
     "metadata": {},
     "output_type": "execute_result"
    }
   ],
   "source": [
    "param_test5 = {\n",
    " 'subsample':[i/100.0 for i in range(75,90,5)],\n",
    " 'colsample_bytree':[i/100.0 for i in range(65,80,5)]\n",
    "}\n",
    "xgsearch5 = GridSearchCV(estimator = XGBRegressor( learning_rate =0.1, n_estimators=70, max_depth=3,\n",
    " min_child_weight=3, nthread=4, scale_pos_weight=1,seed=27), \n",
    " param_grid = param_test5, scoring='neg_mean_squared_error',n_jobs=4,iid=False, cv=5)\n",
    "xgsearch5.fit(X_train,y_train)\n",
    "xgsearch5.grid_scores_, xgsearch5.best_params_, xgsearch5.best_score_"
   ]
  },
  {
   "cell_type": "code",
   "execution_count": 58,
   "metadata": {},
   "outputs": [
    {
     "data": {
      "text/plain": [
       "([mean: -46.90067, std: 1.43328, params: {'reg_alpha': 1e-05},\n",
       "  mean: -46.90063, std: 1.43327, params: {'reg_alpha': 0.01},\n",
       "  mean: -46.88382, std: 1.43150, params: {'reg_alpha': 0.1},\n",
       "  mean: -46.90497, std: 1.50743, params: {'reg_alpha': 1},\n",
       "  mean: -46.82617, std: 1.45608, params: {'reg_alpha': 100}],\n",
       " {'reg_alpha': 100},\n",
       " -46.82616893764634)"
      ]
     },
     "execution_count": 58,
     "metadata": {},
     "output_type": "execute_result"
    }
   ],
   "source": [
    "param_test6 = {\n",
    " 'reg_alpha':[1e-5, 1e-2, 0.1, 1, 100]\n",
    "}\n",
    "xgsearch6 = GridSearchCV(estimator = XGBRegressor( learning_rate =0.1, n_estimators=70, max_depth=3,\n",
    " min_child_weight=3, nthread=4, scale_pos_weight=1,seed=27,colsample_bytree=.7,subsample=.8), \n",
    " param_grid = param_test6, scoring='neg_mean_squared_error',n_jobs=4,iid=False, cv=5)\n",
    "xgsearch6.fit(X_train,y_train)\n",
    "xgsearch6.grid_scores_, xgsearch6.best_params_, xgsearch6.best_score_"
   ]
  },
  {
   "cell_type": "code",
   "execution_count": 59,
   "metadata": {},
   "outputs": [
    {
     "data": {
      "text/plain": [
       "([mean: -46.90497, std: 1.50743, params: {'reg_alpha': 1},\n",
       "  mean: -46.89858, std: 1.43766, params: {'reg_alpha': 10},\n",
       "  mean: -46.82191, std: 1.45354, params: {'reg_alpha': 50},\n",
       "  mean: -46.82183, std: 1.41867, params: {'reg_alpha': 90},\n",
       "  mean: -46.80674, std: 1.42855, params: {'reg_alpha': 95},\n",
       "  mean: -46.84510, std: 1.41479, params: {'reg_alpha': 110},\n",
       "  mean: -46.84527, std: 1.44144, params: {'reg_alpha': 105},\n",
       "  mean: -46.86947, std: 1.42345, params: {'reg_alpha': 120},\n",
       "  mean: -46.82617, std: 1.45608, params: {'reg_alpha': 100}],\n",
       " {'reg_alpha': 95},\n",
       " -46.80674003621046)"
      ]
     },
     "execution_count": 59,
     "metadata": {},
     "output_type": "execute_result"
    }
   ],
   "source": [
    "param_test7 = {\n",
    " 'reg_alpha':[ 1,10,50,90,95,110,105,120 ,100]\n",
    "}\n",
    "xgsearch7 = GridSearchCV(estimator = XGBRegressor( learning_rate =0.1, n_estimators=70, max_depth=3,\n",
    " min_child_weight=3, nthread=4, scale_pos_weight=1,seed=27,colsample_bytree=.7,subsample=.8), \n",
    " param_grid = param_test7, scoring='neg_mean_squared_error',n_jobs=4,iid=False, cv=5)\n",
    "xgsearch7.fit(X_train,y_train)\n",
    "xgsearch7.grid_scores_, xgsearch7.best_params_, xgsearch7.best_score_"
   ]
  },
  {
   "cell_type": "code",
   "execution_count": 60,
   "metadata": {},
   "outputs": [
    {
     "data": {
      "text/plain": [
       "([mean: -51.59966, std: 1.32627, params: {'n_estimators': 20},\n",
       "  mean: -47.87431, std: 1.25822, params: {'n_estimators': 30},\n",
       "  mean: -47.20588, std: 1.32163, params: {'n_estimators': 40},\n",
       "  mean: -46.94830, std: 1.38727, params: {'n_estimators': 50},\n",
       "  mean: -46.84354, std: 1.44215, params: {'n_estimators': 60},\n",
       "  mean: -46.80674, std: 1.42855, params: {'n_estimators': 70},\n",
       "  mean: -46.81277, std: 1.48575, params: {'n_estimators': 80},\n",
       "  mean: -46.85188, std: 1.50282, params: {'n_estimators': 100},\n",
       "  mean: -46.91012, std: 1.50481, params: {'n_estimators': 120},\n",
       "  mean: -46.97872, std: 1.61936, params: {'n_estimators': 150},\n",
       "  mean: -47.18825, std: 1.65468, params: {'n_estimators': 200},\n",
       "  mean: -47.49869, std: 1.66188, params: {'n_estimators': 300}],\n",
       " {'n_estimators': 70},\n",
       " -46.80674003621046)"
      ]
     },
     "execution_count": 60,
     "metadata": {},
     "output_type": "execute_result"
    }
   ],
   "source": [
    "param_test8={\"n_estimators\":(20,30,40,50,60,70,80,100,120,150,200,300)}\n",
    "xgsearch8 = GridSearchCV(estimator = XGBRegressor( learning_rate =0.1, max_depth=3,\n",
    " min_child_weight=3, nthread=4, scale_pos_weight=1,seed=27,colsample_bytree=.7,subsample=.8,reg_alpha=95), \n",
    " param_grid = param_test8, scoring='neg_mean_squared_error',n_jobs=4,iid=False, cv=5)\n",
    "xgsearch8.fit(X_train,y_train)\n",
    "xgsearch8.grid_scores_, xgsearch8.best_params_, xgsearch8.best_score_"
   ]
  },
  {
   "cell_type": "code",
   "execution_count": 61,
   "metadata": {},
   "outputs": [
    {
     "data": {
      "text/plain": [
       "7.1523249710389853"
      ]
     },
     "execution_count": 61,
     "metadata": {},
     "output_type": "execute_result"
    }
   ],
   "source": [
    "xgb3=XGBRegressor( learning_rate =0.1, max_depth=3,n_estimators=70,min_child_weight=3,nthread=4, scale_pos_weight=1,seed=27,colsample_bytree=.7,subsample=.8,reg_alpha=95)\n",
    "xgb3.fit(X_train,y_train)\n",
    "y_pred=xgb3.predict(X_test)\n",
    "np.sqrt(mean_squared_error(y_test,y_pred))"
   ]
  },
  {
   "cell_type": "code",
   "execution_count": 62,
   "metadata": {},
   "outputs": [
    {
     "data": {
      "text/plain": [
       "7.1500154968332597"
      ]
     },
     "execution_count": 62,
     "metadata": {},
     "output_type": "execute_result"
    }
   ],
   "source": [
    "xgb4=XGBRegressor( learning_rate =0.05, max_depth=3,n_estimators=140,min_child_weight=3, nthread=4, scale_pos_weight=1,seed=27,colsample_bytree=.7,subsample=.8,reg_alpha=95) \n",
    "xgb4.fit(X_train,y_train)\n",
    "y_pred=xgb4.predict(X_test)\n",
    "np.sqrt(mean_squared_error(y_test,y_pred))"
   ]
  },
  {
   "cell_type": "code",
   "execution_count": 63,
   "metadata": {},
   "outputs": [
    {
     "data": {
      "text/plain": [
       "7.2690561684934938"
      ]
     },
     "execution_count": 63,
     "metadata": {},
     "output_type": "execute_result"
    }
   ],
   "source": [
    "xgb5=XGBRegressor( learning_rate =0.01, max_depth=3,n_estimators=280,min_child_weight=3, nthread=4, scale_pos_weight=1,seed=27,colsample_bytree=.7,subsample=.8,reg_alpha=95) \n",
    "xgb5.fit(X_train,y_train)\n",
    "y_pred=xgb5.predict(X_test)\n",
    "np.sqrt(mean_squared_error(y_test,y_pred))"
   ]
  },
  {
   "cell_type": "code",
   "execution_count": 64,
   "metadata": {
    "scrolled": true
   },
   "outputs": [
    {
     "data": {
      "text/plain": [
       "7.2727261172639466"
      ]
     },
     "execution_count": 64,
     "metadata": {},
     "output_type": "execute_result"
    }
   ],
   "source": [
    "xgb6=XGBRegressor( learning_rate =0.005, max_depth=3,n_estimators=560,min_child_weight=3, nthread=4, scale_pos_weight=1,seed=27,colsample_bytree=.7,subsample=.8,reg_alpha=95) \n",
    "xgb6.fit(X_train,y_train)\n",
    "y_pred=xgb6.predict(X_test)\n",
    "np.sqrt(mean_squared_error(y_test,y_pred))"
   ]
  },
  {
   "cell_type": "code",
   "execution_count": 89,
   "metadata": {
    "collapsed": true
   },
   "outputs": [],
   "source": [
    "test=pd.read_csv(\"big mart sales/Test.csv\")"
   ]
  },
  {
   "cell_type": "code",
   "execution_count": 90,
   "metadata": {
    "collapsed": true
   },
   "outputs": [],
   "source": [
    "test_MRP=test.Item_MRP"
   ]
  },
  {
   "cell_type": "code",
   "execution_count": 91,
   "metadata": {},
   "outputs": [
    {
     "data": {
      "text/html": [
       "<div>\n",
       "<style>\n",
       "    .dataframe thead tr:only-child th {\n",
       "        text-align: right;\n",
       "    }\n",
       "\n",
       "    .dataframe thead th {\n",
       "        text-align: left;\n",
       "    }\n",
       "\n",
       "    .dataframe tbody tr th {\n",
       "        vertical-align: top;\n",
       "    }\n",
       "</style>\n",
       "<table border=\"1\" class=\"dataframe\">\n",
       "  <thead>\n",
       "    <tr style=\"text-align: right;\">\n",
       "      <th></th>\n",
       "      <th>Item_Identifier</th>\n",
       "      <th>Item_Weight</th>\n",
       "      <th>Item_Fat_Content</th>\n",
       "      <th>Item_Visibility</th>\n",
       "      <th>Item_Type</th>\n",
       "      <th>Item_MRP</th>\n",
       "      <th>Outlet_Identifier</th>\n",
       "      <th>Outlet_Establishment_Year</th>\n",
       "      <th>Outlet_Size</th>\n",
       "      <th>Outlet_Location_Type</th>\n",
       "      <th>Outlet_Type</th>\n",
       "    </tr>\n",
       "  </thead>\n",
       "  <tbody>\n",
       "    <tr>\n",
       "      <th>0</th>\n",
       "      <td>FDW58</td>\n",
       "      <td>20.750</td>\n",
       "      <td>Low Fat</td>\n",
       "      <td>0.007565</td>\n",
       "      <td>Snack Foods</td>\n",
       "      <td>107.8622</td>\n",
       "      <td>OUT049</td>\n",
       "      <td>1999</td>\n",
       "      <td>Medium</td>\n",
       "      <td>Tier 1</td>\n",
       "      <td>Supermarket Type1</td>\n",
       "    </tr>\n",
       "    <tr>\n",
       "      <th>1</th>\n",
       "      <td>FDW14</td>\n",
       "      <td>8.300</td>\n",
       "      <td>reg</td>\n",
       "      <td>0.038428</td>\n",
       "      <td>Dairy</td>\n",
       "      <td>87.3198</td>\n",
       "      <td>OUT017</td>\n",
       "      <td>2007</td>\n",
       "      <td>NaN</td>\n",
       "      <td>Tier 2</td>\n",
       "      <td>Supermarket Type1</td>\n",
       "    </tr>\n",
       "    <tr>\n",
       "      <th>2</th>\n",
       "      <td>NCN55</td>\n",
       "      <td>14.600</td>\n",
       "      <td>Low Fat</td>\n",
       "      <td>0.099575</td>\n",
       "      <td>Others</td>\n",
       "      <td>241.7538</td>\n",
       "      <td>OUT010</td>\n",
       "      <td>1998</td>\n",
       "      <td>NaN</td>\n",
       "      <td>Tier 3</td>\n",
       "      <td>Grocery Store</td>\n",
       "    </tr>\n",
       "    <tr>\n",
       "      <th>3</th>\n",
       "      <td>FDQ58</td>\n",
       "      <td>7.315</td>\n",
       "      <td>Low Fat</td>\n",
       "      <td>0.015388</td>\n",
       "      <td>Snack Foods</td>\n",
       "      <td>155.0340</td>\n",
       "      <td>OUT017</td>\n",
       "      <td>2007</td>\n",
       "      <td>NaN</td>\n",
       "      <td>Tier 2</td>\n",
       "      <td>Supermarket Type1</td>\n",
       "    </tr>\n",
       "    <tr>\n",
       "      <th>4</th>\n",
       "      <td>FDY38</td>\n",
       "      <td>NaN</td>\n",
       "      <td>Regular</td>\n",
       "      <td>0.118599</td>\n",
       "      <td>Dairy</td>\n",
       "      <td>234.2300</td>\n",
       "      <td>OUT027</td>\n",
       "      <td>1985</td>\n",
       "      <td>Medium</td>\n",
       "      <td>Tier 3</td>\n",
       "      <td>Supermarket Type3</td>\n",
       "    </tr>\n",
       "  </tbody>\n",
       "</table>\n",
       "</div>"
      ],
      "text/plain": [
       "  Item_Identifier  Item_Weight Item_Fat_Content  Item_Visibility    Item_Type  \\\n",
       "0           FDW58       20.750          Low Fat         0.007565  Snack Foods   \n",
       "1           FDW14        8.300              reg         0.038428        Dairy   \n",
       "2           NCN55       14.600          Low Fat         0.099575       Others   \n",
       "3           FDQ58        7.315          Low Fat         0.015388  Snack Foods   \n",
       "4           FDY38          NaN          Regular         0.118599        Dairy   \n",
       "\n",
       "   Item_MRP Outlet_Identifier  Outlet_Establishment_Year Outlet_Size  \\\n",
       "0  107.8622            OUT049                       1999      Medium   \n",
       "1   87.3198            OUT017                       2007         NaN   \n",
       "2  241.7538            OUT010                       1998         NaN   \n",
       "3  155.0340            OUT017                       2007         NaN   \n",
       "4  234.2300            OUT027                       1985      Medium   \n",
       "\n",
       "  Outlet_Location_Type        Outlet_Type  \n",
       "0               Tier 1  Supermarket Type1  \n",
       "1               Tier 2  Supermarket Type1  \n",
       "2               Tier 3      Grocery Store  \n",
       "3               Tier 2  Supermarket Type1  \n",
       "4               Tier 3  Supermarket Type3  "
      ]
     },
     "execution_count": 91,
     "metadata": {},
     "output_type": "execute_result"
    }
   ],
   "source": [
    "test.head()"
   ]
  },
  {
   "cell_type": "code",
   "execution_count": 68,
   "metadata": {},
   "outputs": [
    {
     "name": "stderr",
     "output_type": "stream",
     "text": [
      "C:\\Program Files\\Anaconda\\lib\\site-packages\\ipykernel_launcher.py:8: SettingWithCopyWarning: \n",
      "A value is trying to be set on a copy of a slice from a DataFrame\n",
      "\n",
      "See the caveats in the documentation: http://pandas.pydata.org/pandas-docs/stable/indexing.html#indexing-view-versus-copy\n",
      "  \n",
      "C:\\Program Files\\Anaconda\\lib\\site-packages\\pandas\\core\\generic.py:3110: SettingWithCopyWarning: \n",
      "A value is trying to be set on a copy of a slice from a DataFrame.\n",
      "Try using .loc[row_indexer,col_indexer] = value instead\n",
      "\n",
      "See the caveats in the documentation: http://pandas.pydata.org/pandas-docs/stable/indexing.html#indexing-view-versus-copy\n",
      "  self[name] = value\n"
     ]
    }
   ],
   "source": [
    "z=test.Item_Identifier.apply(Item_identifier_transform)\n",
    "\n",
    "from itertools import chain\n",
    "k=list(chain.from_iterable(z))\n",
    "\n",
    "k=np.array(k)\n",
    "k=k.reshape(-1,3)\n",
    "test[\"Item_id_cat1\"]=k[:,0]\n",
    "test[\"Item_id_cat2\"]=k[:,1]\n",
    "test[\"Item_id_cat3\"]=k[:,2]\n",
    "\n",
    "test=preprocess(test)\n",
    "\n",
    "#test.Item_MRP=test.Item_MRP.apply(mrp)\n",
    "\n",
    "test=pred_outlet_type(test)\n",
    "\n",
    "from sklearn.preprocessing import LabelEncoder\n",
    "le=LabelEncoder()\n",
    "columns1=[\"Outlet_Identifier\",\"Outlet_Location_Type\",\"Outlet_Type\",\"Item_Fat_Content\",\"Item_Type\",\"Outlet_Size\",\"Item_id_cat1\",\"Item_id_cat2\",\"Item_id_cat3\"]\n",
    "for i in columns1:\n",
    "    test[i]=le.fit_transform(test[i])\n",
    "\n",
    "test=test.sort_values(by=\"index\")\n",
    "test.drop(labels=\"index\",inplace=True,axis=1)\n",
    "test.drop(labels=\"Item_Identifier\",inplace=True,axis=1)\n",
    "\n",
    "test1=test\n",
    "from sklearn.preprocessing import MinMaxScaler\n",
    "scale1=MinMaxScaler().fit(test1)\n",
    "test1=scale1.transform(test1)"
   ]
  },
  {
   "cell_type": "code",
   "execution_count": 73,
   "metadata": {
    "collapsed": true
   },
   "outputs": [],
   "source": [
    "predict=gbm2.predict(test1) #model with least RMSE"
   ]
  },
  {
   "cell_type": "code",
   "execution_count": 70,
   "metadata": {
    "collapsed": true,
    "scrolled": true
   },
   "outputs": [],
   "source": [
    "final_predict=predict*test_MRP  #Multiplying the MRP to get final Outlet Sales\n",
    "\n",
    "submission=pd.read_csv(\"big mart sales/SampleSubmission.csv\")\n",
    "\n",
    "submission.Item_Outlet_Sales=final_predict\n"
   ]
  },
  {
   "cell_type": "code",
   "execution_count": 71,
   "metadata": {
    "collapsed": true
   },
   "outputs": [],
   "source": [
    "submission.to_csv(\"big mart sales/Submission1.csv\", sep=\",\",index=None)"
   ]
  },
  {
   "cell_type": "code",
   "execution_count": 92,
   "metadata": {
    "scrolled": true
   },
   "outputs": [
    {
     "data": {
      "text/plain": [
       "0    1790.593396\n",
       "1    1416.721513\n",
       "2     663.471936\n",
       "3    2553.367094\n",
       "4    6224.151246\n",
       "Name: Item_MRP, dtype: float64"
      ]
     },
     "execution_count": 92,
     "metadata": {},
     "output_type": "execute_result"
    }
   ],
   "source": [
    "final_predict.head()"
   ]
  }
 ],
 "metadata": {
  "kernelspec": {
   "display_name": "Python 3",
   "language": "python",
   "name": "python3"
  },
  "language_info": {
   "codemirror_mode": {
    "name": "ipython",
    "version": 3
   },
   "file_extension": ".py",
   "mimetype": "text/x-python",
   "name": "python",
   "nbconvert_exporter": "python",
   "pygments_lexer": "ipython3",
   "version": "3.6.2"
  }
 },
 "nbformat": 4,
 "nbformat_minor": 2
}
